{
 "cells": [
  {
   "cell_type": "code",
   "execution_count": 1,
   "metadata": {},
   "outputs": [],
   "source": [
    "import pandas as pd\n",
    "import matplotlib.pyplot as plt\n",
    "import tensorflow as tf\n",
    "import numpy as np\n",
    "import food_data\n",
    "import os"
   ]
  },
  {
   "cell_type": "code",
   "execution_count": 2,
   "metadata": {},
   "outputs": [],
   "source": [
    "MODEL_NAME = 'fine_tuned_v1'\n",
    "MODEL_NAME_JSON = MODEL_NAME + '.json'"
   ]
  },
  {
   "cell_type": "code",
   "execution_count": 3,
   "metadata": {},
   "outputs": [],
   "source": [
    "hist_df = pd.read_json('./histories/' + MODEL_NAME_JSON)"
   ]
  },
  {
   "cell_type": "code",
   "execution_count": 4,
   "metadata": {},
   "outputs": [
    {
     "data": {
      "text/html": [
       "<div>\n",
       "<style scoped>\n",
       "    .dataframe tbody tr th:only-of-type {\n",
       "        vertical-align: middle;\n",
       "    }\n",
       "\n",
       "    .dataframe tbody tr th {\n",
       "        vertical-align: top;\n",
       "    }\n",
       "\n",
       "    .dataframe thead th {\n",
       "        text-align: right;\n",
       "    }\n",
       "</style>\n",
       "<table border=\"1\" class=\"dataframe\">\n",
       "  <thead>\n",
       "    <tr style=\"text-align: right;\">\n",
       "      <th></th>\n",
       "      <th>loss</th>\n",
       "      <th>accuracy</th>\n",
       "      <th>val_loss</th>\n",
       "      <th>val_accuracy</th>\n",
       "    </tr>\n",
       "  </thead>\n",
       "  <tbody>\n",
       "    <tr>\n",
       "      <th>0</th>\n",
       "      <td>1.921739</td>\n",
       "      <td>0.515289</td>\n",
       "      <td>15.979985</td>\n",
       "      <td>0.006409</td>\n",
       "    </tr>\n",
       "    <tr>\n",
       "      <th>1</th>\n",
       "      <td>1.398646</td>\n",
       "      <td>0.630283</td>\n",
       "      <td>17.552193</td>\n",
       "      <td>0.006673</td>\n",
       "    </tr>\n",
       "    <tr>\n",
       "      <th>2</th>\n",
       "      <td>1.213101</td>\n",
       "      <td>0.674845</td>\n",
       "      <td>18.886469</td>\n",
       "      <td>0.007201</td>\n",
       "    </tr>\n",
       "    <tr>\n",
       "      <th>3</th>\n",
       "      <td>1.089462</td>\n",
       "      <td>0.704167</td>\n",
       "      <td>19.968567</td>\n",
       "      <td>0.007003</td>\n",
       "    </tr>\n",
       "    <tr>\n",
       "      <th>4</th>\n",
       "      <td>0.999012</td>\n",
       "      <td>0.725234</td>\n",
       "      <td>21.141098</td>\n",
       "      <td>0.006276</td>\n",
       "    </tr>\n",
       "    <tr>\n",
       "      <th>5</th>\n",
       "      <td>0.920303</td>\n",
       "      <td>0.743957</td>\n",
       "      <td>22.289892</td>\n",
       "      <td>0.006541</td>\n",
       "    </tr>\n",
       "    <tr>\n",
       "      <th>6</th>\n",
       "      <td>0.863622</td>\n",
       "      <td>0.756356</td>\n",
       "      <td>23.302038</td>\n",
       "      <td>0.006871</td>\n",
       "    </tr>\n",
       "    <tr>\n",
       "      <th>7</th>\n",
       "      <td>0.811399</td>\n",
       "      <td>0.771695</td>\n",
       "      <td>24.193439</td>\n",
       "      <td>0.007069</td>\n",
       "    </tr>\n",
       "    <tr>\n",
       "      <th>8</th>\n",
       "      <td>0.767943</td>\n",
       "      <td>0.782080</td>\n",
       "      <td>24.928156</td>\n",
       "      <td>0.006276</td>\n",
       "    </tr>\n",
       "    <tr>\n",
       "      <th>9</th>\n",
       "      <td>0.729733</td>\n",
       "      <td>0.791012</td>\n",
       "      <td>25.333591</td>\n",
       "      <td>0.007135</td>\n",
       "    </tr>\n",
       "  </tbody>\n",
       "</table>\n",
       "</div>"
      ],
      "text/plain": [
       "       loss  accuracy   val_loss  val_accuracy\n",
       "0  1.921739  0.515289  15.979985      0.006409\n",
       "1  1.398646  0.630283  17.552193      0.006673\n",
       "2  1.213101  0.674845  18.886469      0.007201\n",
       "3  1.089462  0.704167  19.968567      0.007003\n",
       "4  0.999012  0.725234  21.141098      0.006276\n",
       "5  0.920303  0.743957  22.289892      0.006541\n",
       "6  0.863622  0.756356  23.302038      0.006871\n",
       "7  0.811399  0.771695  24.193439      0.007069\n",
       "8  0.767943  0.782080  24.928156      0.006276\n",
       "9  0.729733  0.791012  25.333591      0.007135"
      ]
     },
     "execution_count": 4,
     "metadata": {},
     "output_type": "execute_result"
    }
   ],
   "source": [
    "hist_df"
   ]
  },
  {
   "cell_type": "code",
   "execution_count": 5,
   "metadata": {},
   "outputs": [
    {
     "data": {
      "text/plain": [
       "<matplotlib.legend.Legend at 0x2658c1368e0>"
      ]
     },
     "execution_count": 5,
     "metadata": {},
     "output_type": "execute_result"
    },
    {
     "data": {
      "image/png": "[encoded data removed]",
      "text/plain": [
       "<Figure size 432x288 with 1 Axes>"
      ]
     },
     "metadata": {
      "needs_background": "light"
     },
     "output_type": "display_data"
    }
   ],
   "source": [
    "plt.plot(hist_df)\n",
    "plt.legend(hist_df)"
   ]
  },
  {
   "cell_type": "code",
   "execution_count": 6,
   "metadata": {},
   "outputs": [],
   "source": [
    "model = tf.keras.models.load_model('./models/' + MODEL_NAME)"
   ]
  },
  {
   "cell_type": "code",
   "execution_count": 7,
   "metadata": {},
   "outputs": [],
   "source": [
    "from keras.utils.vis_utils import plot_model"
   ]
  },
  {
   "cell_type": "code",
   "execution_count": 8,
   "metadata": {},
   "outputs": [
    {
     "data": {
      "image/png": "[encoded data removed]",
      "text/plain": [
       "<IPython.core.display.Image object>"
      ]
     },
     "execution_count": 8,
     "metadata": {},
     "output_type": "execute_result"
    }
   ],
   "source": [
    "plot_model(model, to_file='./model_vis/' + MODEL_NAME + '.png', show_shapes=True, show_layer_names=True)"
   ]
  },
  {
   "cell_type": "code",
   "execution_count": 9,
   "metadata": {},
   "outputs": [],
   "source": [
    "def get_id(name):\n",
    "    names = name.split(\"/\")\n",
    "    return names[1]"
   ]
  },
  {
   "cell_type": "code",
   "execution_count": 10,
   "metadata": {},
   "outputs": [],
   "source": [
    "def get_label(path):\n",
    "    names = path.split(\"/\")\n",
    "    return names[0]"
   ]
  },
  {
   "cell_type": "code",
   "execution_count": 11,
   "metadata": {},
   "outputs": [],
   "source": [
    "def exact_path(path):\n",
    "    return \"../food-101/images/\" + path + \".jpg\""
   ]
  },
  {
   "cell_type": "code",
   "execution_count": 12,
   "metadata": {},
   "outputs": [
    {
     "name": "stdout",
     "output_type": "stream",
     "text": [
      "25250\n"
     ]
    },
    {
     "data": {
      "text/html": [
       "<div>\n",
       "<style scoped>\n",
       "    .dataframe tbody tr th:only-of-type {\n",
       "        vertical-align: middle;\n",
       "    }\n",
       "\n",
       "    .dataframe tbody tr th {\n",
       "        vertical-align: top;\n",
       "    }\n",
       "\n",
       "    .dataframe thead th {\n",
       "        text-align: right;\n",
       "    }\n",
       "</style>\n",
       "<table border=\"1\" class=\"dataframe\">\n",
       "  <thead>\n",
       "    <tr style=\"text-align: right;\">\n",
       "      <th></th>\n",
       "      <th>path</th>\n",
       "      <th>label</th>\n",
       "      <th>id</th>\n",
       "      <th>exact_path</th>\n",
       "    </tr>\n",
       "  </thead>\n",
       "  <tbody>\n",
       "    <tr>\n",
       "      <th>0</th>\n",
       "      <td>apple_pie/1011328</td>\n",
       "      <td>apple_pie</td>\n",
       "      <td>1011328</td>\n",
       "      <td>../food-101/images/apple_pie/1011328.jpg</td>\n",
       "    </tr>\n",
       "    <tr>\n",
       "      <th>1</th>\n",
       "      <td>apple_pie/101251</td>\n",
       "      <td>apple_pie</td>\n",
       "      <td>101251</td>\n",
       "      <td>../food-101/images/apple_pie/101251.jpg</td>\n",
       "    </tr>\n",
       "    <tr>\n",
       "      <th>2</th>\n",
       "      <td>apple_pie/1034399</td>\n",
       "      <td>apple_pie</td>\n",
       "      <td>1034399</td>\n",
       "      <td>../food-101/images/apple_pie/1034399.jpg</td>\n",
       "    </tr>\n",
       "    <tr>\n",
       "      <th>3</th>\n",
       "      <td>apple_pie/103801</td>\n",
       "      <td>apple_pie</td>\n",
       "      <td>103801</td>\n",
       "      <td>../food-101/images/apple_pie/103801.jpg</td>\n",
       "    </tr>\n",
       "    <tr>\n",
       "      <th>4</th>\n",
       "      <td>apple_pie/1038694</td>\n",
       "      <td>apple_pie</td>\n",
       "      <td>1038694</td>\n",
       "      <td>../food-101/images/apple_pie/1038694.jpg</td>\n",
       "    </tr>\n",
       "    <tr>\n",
       "      <th>5</th>\n",
       "      <td>apple_pie/1047447</td>\n",
       "      <td>apple_pie</td>\n",
       "      <td>1047447</td>\n",
       "      <td>../food-101/images/apple_pie/1047447.jpg</td>\n",
       "    </tr>\n",
       "    <tr>\n",
       "      <th>6</th>\n",
       "      <td>apple_pie/1068632</td>\n",
       "      <td>apple_pie</td>\n",
       "      <td>1068632</td>\n",
       "      <td>../food-101/images/apple_pie/1068632.jpg</td>\n",
       "    </tr>\n",
       "    <tr>\n",
       "      <th>7</th>\n",
       "      <td>apple_pie/110043</td>\n",
       "      <td>apple_pie</td>\n",
       "      <td>110043</td>\n",
       "      <td>../food-101/images/apple_pie/110043.jpg</td>\n",
       "    </tr>\n",
       "    <tr>\n",
       "      <th>8</th>\n",
       "      <td>apple_pie/1106961</td>\n",
       "      <td>apple_pie</td>\n",
       "      <td>1106961</td>\n",
       "      <td>../food-101/images/apple_pie/1106961.jpg</td>\n",
       "    </tr>\n",
       "    <tr>\n",
       "      <th>9</th>\n",
       "      <td>apple_pie/1113017</td>\n",
       "      <td>apple_pie</td>\n",
       "      <td>1113017</td>\n",
       "      <td>../food-101/images/apple_pie/1113017.jpg</td>\n",
       "    </tr>\n",
       "  </tbody>\n",
       "</table>\n",
       "</div>"
      ],
      "text/plain": [
       "                path      label       id  \\\n",
       "0  apple_pie/1011328  apple_pie  1011328   \n",
       "1   apple_pie/101251  apple_pie   101251   \n",
       "2  apple_pie/1034399  apple_pie  1034399   \n",
       "3   apple_pie/103801  apple_pie   103801   \n",
       "4  apple_pie/1038694  apple_pie  1038694   \n",
       "5  apple_pie/1047447  apple_pie  1047447   \n",
       "6  apple_pie/1068632  apple_pie  1068632   \n",
       "7   apple_pie/110043  apple_pie   110043   \n",
       "8  apple_pie/1106961  apple_pie  1106961   \n",
       "9  apple_pie/1113017  apple_pie  1113017   \n",
       "\n",
       "                                 exact_path  \n",
       "0  ../food-101/images/apple_pie/1011328.jpg  \n",
       "1   ../food-101/images/apple_pie/101251.jpg  \n",
       "2  ../food-101/images/apple_pie/1034399.jpg  \n",
       "3   ../food-101/images/apple_pie/103801.jpg  \n",
       "4  ../food-101/images/apple_pie/1038694.jpg  \n",
       "5  ../food-101/images/apple_pie/1047447.jpg  \n",
       "6  ../food-101/images/apple_pie/1068632.jpg  \n",
       "7   ../food-101/images/apple_pie/110043.jpg  \n",
       "8  ../food-101/images/apple_pie/1106961.jpg  \n",
       "9  ../food-101/images/apple_pie/1113017.jpg  "
      ]
     },
     "execution_count": 12,
     "metadata": {},
     "output_type": "execute_result"
    }
   ],
   "source": [
    "LABELS = os.listdir(\"../food-101/images\")\n",
    "test_names = []\n",
    "\n",
    "with open(\"../food-101/meta/test.txt\") as f:\n",
    "    test_names = f.readlines()\n",
    "    print(test_names.__len__())\n",
    "\n",
    "\n",
    "test_df = pd.DataFrame(map(lambda x: x[:-1], test_names), columns=['path'])\n",
    "test_df['label'] = test_df['path'].map(lambda x: get_label(x))\n",
    "test_df['id'] = test_df['path'].map(lambda x: get_id(x))\n",
    "test_df['exact_path'] = test_df['path'].map(lambda x: exact_path(x))\n",
    "test_df.head(10)"
   ]
  },
  {
   "cell_type": "code",
   "execution_count": 13,
   "metadata": {},
   "outputs": [],
   "source": [
    "test_generator = tf.keras.preprocessing.image.ImageDataGenerator(\n",
    "            rescale=1./255)"
   ]
  },
  {
   "cell_type": "code",
   "execution_count": 14,
   "metadata": {},
   "outputs": [
    {
     "name": "stdout",
     "output_type": "stream",
     "text": [
      "Found 25250 validated image filenames belonging to 101 classes.\n"
     ]
    }
   ],
   "source": [
    "test_gen = test_generator.flow_from_dataframe(dataframe = test_df, directory=None, x_col='exact_path', y_col='label',\n",
    "    weight_col=None, target_size=(256, 256), color_mode='rgb',\n",
    "    classes=LABELS, class_mode='categorical', batch_size=32, shuffle=True)"
   ]
  },
  {
   "cell_type": "code",
   "execution_count": 15,
   "metadata": {},
   "outputs": [
    {
     "name": "stdout",
     "output_type": "stream",
     "text": [
      "790/790 [==============================] - 86s 105ms/step - loss: 6.2622 - accuracy: 0.5076\n"
     ]
    }
   ],
   "source": [
    "result = model.evaluate(test_gen, batch_size=32)"
   ]
  },
  {
   "cell_type": "code",
   "execution_count": 16,
   "metadata": {},
   "outputs": [
    {
     "name": "stdout",
     "output_type": "stream",
     "text": [
      "790/790 [==============================] - 79s 100ms/step\n"
     ]
    }
   ],
   "source": [
    "preds = model.predict(test_gen)"
   ]
  },
  {
   "cell_type": "code",
   "execution_count": 17,
   "metadata": {},
   "outputs": [
    {
     "data": {
      "text/plain": [
       "(25250, 101)"
      ]
     },
     "execution_count": 17,
     "metadata": {},
     "output_type": "execute_result"
    }
   ],
   "source": [
    "preds.shape"
   ]
  },
  {
   "cell_type": "code",
   "execution_count": 115,
   "metadata": {},
   "outputs": [],
   "source": [
    "INDEX = 571"
   ]
  },
  {
   "cell_type": "code",
   "execution_count": 116,
   "metadata": {},
   "outputs": [],
   "source": [
    "GUESS_LABEL_INDEX = np.argmax(preds[INDEX])"
   ]
  },
  {
   "cell_type": "code",
   "execution_count": 117,
   "metadata": {},
   "outputs": [
    {
     "data": {
      "text/plain": [
       "0.91657376"
      ]
     },
     "execution_count": 117,
     "metadata": {},
     "output_type": "execute_result"
    }
   ],
   "source": [
    "preds[INDEX][GUESS_LABEL_INDEX]"
   ]
  },
  {
   "cell_type": "code",
   "execution_count": 118,
   "metadata": {},
   "outputs": [
    {
     "data": {
      "text/plain": [
       "'pulled_pork_sandwich'"
      ]
     },
     "execution_count": 118,
     "metadata": {},
     "output_type": "execute_result"
    }
   ],
   "source": [
    "LABELS[GUESS_LABEL_INDEX]"
   ]
  },
  {
   "cell_type": "code",
   "execution_count": 119,
   "metadata": {},
   "outputs": [],
   "source": [
    "guess_info = test_df.iloc[INDEX]"
   ]
  },
  {
   "cell_type": "code",
   "execution_count": 120,
   "metadata": {},
   "outputs": [
    {
     "data": {
      "text/plain": [
       "'baklava'"
      ]
     },
     "execution_count": 120,
     "metadata": {},
     "output_type": "execute_result"
    },
    {
     "data": {
      "image/png": "[encoded data removed]",
      "text/plain": [
       "<Figure size 432x288 with 1 Axes>"
      ]
     },
     "metadata": {
      "needs_background": "light"
     },
     "output_type": "display_data"
    }
   ],
   "source": [
    "plt.imshow(plt.imread(guess_info['exact_path']))\n",
    "guess_info['label']"
   ]
  },
  {
   "cell_type": "code",
   "execution_count": 51,
   "metadata": {},
   "outputs": [],
   "source": [
    "food_search = food_data.search_foods(LABELS[GUESS_LABEL_INDEX].replace('_', ' '))"
   ]
  },
  {
   "cell_type": "code",
   "execution_count": 52,
   "metadata": {},
   "outputs": [
    {
     "data": {
      "text/plain": [
       "{'nutrientId': 1008,\n",
       " 'nutrientName': 'Energy',\n",
       " 'nutrientNumber': '208',\n",
       " 'unitName': 'KCAL',\n",
       " 'value': 278,\n",
       " 'rank': 300,\n",
       " 'indentLevel': 1,\n",
       " 'foodNutrientId': 28739492}"
      ]
     },
     "execution_count": 52,
     "metadata": {},
     "output_type": "execute_result"
    }
   ],
   "source": [
    "food_data.get_energy(food_search)"
   ]
  }
 ],
 "metadata": {
  "kernelspec": {
   "display_name": "base",
   "language": "python",
   "name": "python3"
  },
  "language_info": {
   "codemirror_mode": {
    "name": "ipython",
    "version": 3
   },
   "file_extension": ".py",
   "mimetype": "text/x-python",
   "name": "python",
   "nbconvert_exporter": "python",
   "pygments_lexer": "ipython3",
   "version": "3.9.15"
  },
  "orig_nbformat": 4
 },
 "nbformat": 4,
 "nbformat_minor": 2
}
