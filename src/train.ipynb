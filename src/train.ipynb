{
 "cells": [
  {
   "cell_type": "code",
   "execution_count": 1,
   "metadata": {},
   "outputs": [],
   "source": [
    "import os\n",
    "import pandas as pd\n",
    "import numpy as np\n",
    "import tensorflow as tf"
   ]
  },
  {
   "cell_type": "code",
   "execution_count": 2,
   "metadata": {},
   "outputs": [],
   "source": [
    "gpus = tf.config.experimental.list_physical_devices(\"GPU\")\n",
    "for gpu in gpus:\n",
    "    tf.config.experimental.set_memory_growth(gpu, True)"
   ]
  },
  {
   "cell_type": "code",
   "execution_count": 3,
   "metadata": {},
   "outputs": [
    {
     "data": {
      "text/plain": [
       "[PhysicalDevice(name='/physical_device:GPU:0', device_type='GPU')]"
      ]
     },
     "execution_count": 3,
     "metadata": {},
     "output_type": "execute_result"
    }
   ],
   "source": [
    "gpus"
   ]
  },
  {
   "cell_type": "code",
   "execution_count": 4,
   "metadata": {},
   "outputs": [],
   "source": [
    "LABELS = os.listdir(\"../food-101/images\")"
   ]
  },
  {
   "cell_type": "code",
   "execution_count": 5,
   "metadata": {},
   "outputs": [
    {
     "data": {
      "text/plain": [
       "['apple_pie',\n",
       " 'baby_back_ribs',\n",
       " 'baklava',\n",
       " 'beef_carpaccio',\n",
       " 'beef_tartare',\n",
       " 'beet_salad',\n",
       " 'beignets',\n",
       " 'bibimbap',\n",
       " 'bread_pudding',\n",
       " 'breakfast_burrito',\n",
       " 'bruschetta',\n",
       " 'caesar_salad',\n",
       " 'cannoli',\n",
       " 'caprese_salad',\n",
       " 'carrot_cake',\n",
       " 'ceviche',\n",
       " 'cheesecake',\n",
       " 'cheese_plate',\n",
       " 'chicken_curry',\n",
       " 'chicken_quesadilla',\n",
       " 'chicken_wings',\n",
       " 'chocolate_cake',\n",
       " 'chocolate_mousse',\n",
       " 'churros',\n",
       " 'clam_chowder',\n",
       " 'club_sandwich',\n",
       " 'crab_cakes',\n",
       " 'creme_brulee',\n",
       " 'croque_madame',\n",
       " 'cup_cakes',\n",
       " 'deviled_eggs',\n",
       " 'donuts',\n",
       " 'dumplings',\n",
       " 'edamame',\n",
       " 'eggs_benedict',\n",
       " 'escargots',\n",
       " 'falafel',\n",
       " 'filet_mignon',\n",
       " 'fish_and_chips',\n",
       " 'foie_gras',\n",
       " 'french_fries',\n",
       " 'french_onion_soup',\n",
       " 'french_toast',\n",
       " 'fried_calamari',\n",
       " 'fried_rice',\n",
       " 'frozen_yogurt',\n",
       " 'garlic_bread',\n",
       " 'gnocchi',\n",
       " 'greek_salad',\n",
       " 'grilled_cheese_sandwich',\n",
       " 'grilled_salmon',\n",
       " 'guacamole',\n",
       " 'gyoza',\n",
       " 'hamburger',\n",
       " 'hot_and_sour_soup',\n",
       " 'hot_dog',\n",
       " 'huevos_rancheros',\n",
       " 'hummus',\n",
       " 'ice_cream',\n",
       " 'lasagna',\n",
       " 'lobster_bisque',\n",
       " 'lobster_roll_sandwich',\n",
       " 'macaroni_and_cheese',\n",
       " 'macarons',\n",
       " 'miso_soup',\n",
       " 'mussels',\n",
       " 'nachos',\n",
       " 'omelette',\n",
       " 'onion_rings',\n",
       " 'oysters',\n",
       " 'pad_thai',\n",
       " 'paella',\n",
       " 'pancakes',\n",
       " 'panna_cotta',\n",
       " 'peking_duck',\n",
       " 'pho',\n",
       " 'pizza',\n",
       " 'pork_chop',\n",
       " 'poutine',\n",
       " 'prime_rib',\n",
       " 'pulled_pork_sandwich',\n",
       " 'ramen',\n",
       " 'ravioli',\n",
       " 'red_velvet_cake',\n",
       " 'risotto',\n",
       " 'samosa',\n",
       " 'sashimi',\n",
       " 'scallops',\n",
       " 'seaweed_salad',\n",
       " 'shrimp_and_grits',\n",
       " 'spaghetti_bolognese',\n",
       " 'spaghetti_carbonara',\n",
       " 'spring_rolls',\n",
       " 'steak',\n",
       " 'strawberry_shortcake',\n",
       " 'sushi',\n",
       " 'tacos',\n",
       " 'takoyaki',\n",
       " 'tiramisu',\n",
       " 'tuna_tartare',\n",
       " 'waffles']"
      ]
     },
     "execution_count": 5,
     "metadata": {},
     "output_type": "execute_result"
    }
   ],
   "source": [
    "LABELS"
   ]
  },
  {
   "cell_type": "code",
   "execution_count": 6,
   "metadata": {},
   "outputs": [
    {
     "name": "stdout",
     "output_type": "stream",
     "text": [
      "25250\n"
     ]
    }
   ],
   "source": [
    "test_names = []\n",
    "\n",
    "with open(\"../food-101/meta/test.txt\") as f:\n",
    "    test_names = f.readlines()\n",
    "    print(test_names.__len__())"
   ]
  },
  {
   "cell_type": "code",
   "execution_count": 7,
   "metadata": {},
   "outputs": [
    {
     "name": "stdout",
     "output_type": "stream",
     "text": [
      "75750\n"
     ]
    }
   ],
   "source": [
    "train_names = []\n",
    "\n",
    "with open(\"../food-101/meta/train.txt\") as f:\n",
    "    train_names = f.readlines()\n",
    "    print(train_names.__len__())"
   ]
  },
  {
   "cell_type": "code",
   "execution_count": 8,
   "metadata": {},
   "outputs": [
    {
     "data": {
      "text/plain": [
       "'apple_pie/1005649'"
      ]
     },
     "execution_count": 8,
     "metadata": {},
     "output_type": "execute_result"
    }
   ],
   "source": [
    "train_names[0][:-1]"
   ]
  },
  {
   "cell_type": "code",
   "execution_count": 9,
   "metadata": {},
   "outputs": [],
   "source": [
    "def get_id(name):\n",
    "    names = name.split(\"/\")\n",
    "    return names[1]"
   ]
  },
  {
   "cell_type": "code",
   "execution_count": 10,
   "metadata": {},
   "outputs": [],
   "source": [
    "def get_label(path):\n",
    "    names = path.split(\"/\")\n",
    "    return names[0]"
   ]
  },
  {
   "cell_type": "code",
   "execution_count": 11,
   "metadata": {},
   "outputs": [
    {
     "data": {
      "text/plain": [
       "'978771'"
      ]
     },
     "execution_count": 11,
     "metadata": {},
     "output_type": "execute_result"
    }
   ],
   "source": [
    "get_id(train_names[5242][:-1])"
   ]
  },
  {
   "cell_type": "code",
   "execution_count": 12,
   "metadata": {},
   "outputs": [],
   "source": [
    "train_df = pd.DataFrame(map(lambda x: x[:-1], train_names), columns=['path'])"
   ]
  },
  {
   "cell_type": "code",
   "execution_count": 13,
   "metadata": {},
   "outputs": [],
   "source": [
    "train_df['label'] = train_df['path'].map(lambda x: get_label(x))"
   ]
  },
  {
   "cell_type": "code",
   "execution_count": 14,
   "metadata": {},
   "outputs": [],
   "source": [
    "train_df['id'] = train_df['path'].map(lambda x: get_id(x))"
   ]
  },
  {
   "cell_type": "code",
   "execution_count": 15,
   "metadata": {},
   "outputs": [
    {
     "data": {
      "text/html": [
       "<div>\n",
       "<style scoped>\n",
       "    .dataframe tbody tr th:only-of-type {\n",
       "        vertical-align: middle;\n",
       "    }\n",
       "\n",
       "    .dataframe tbody tr th {\n",
       "        vertical-align: top;\n",
       "    }\n",
       "\n",
       "    .dataframe thead th {\n",
       "        text-align: right;\n",
       "    }\n",
       "</style>\n",
       "<table border=\"1\" class=\"dataframe\">\n",
       "  <thead>\n",
       "    <tr style=\"text-align: right;\">\n",
       "      <th></th>\n",
       "      <th>path</th>\n",
       "      <th>label</th>\n",
       "      <th>id</th>\n",
       "    </tr>\n",
       "  </thead>\n",
       "  <tbody>\n",
       "    <tr>\n",
       "      <th>0</th>\n",
       "      <td>apple_pie/1005649</td>\n",
       "      <td>apple_pie</td>\n",
       "      <td>1005649</td>\n",
       "    </tr>\n",
       "    <tr>\n",
       "      <th>1</th>\n",
       "      <td>apple_pie/1014775</td>\n",
       "      <td>apple_pie</td>\n",
       "      <td>1014775</td>\n",
       "    </tr>\n",
       "    <tr>\n",
       "      <th>2</th>\n",
       "      <td>apple_pie/1026328</td>\n",
       "      <td>apple_pie</td>\n",
       "      <td>1026328</td>\n",
       "    </tr>\n",
       "    <tr>\n",
       "      <th>3</th>\n",
       "      <td>apple_pie/1028787</td>\n",
       "      <td>apple_pie</td>\n",
       "      <td>1028787</td>\n",
       "    </tr>\n",
       "    <tr>\n",
       "      <th>4</th>\n",
       "      <td>apple_pie/1043283</td>\n",
       "      <td>apple_pie</td>\n",
       "      <td>1043283</td>\n",
       "    </tr>\n",
       "    <tr>\n",
       "      <th>5</th>\n",
       "      <td>apple_pie/1050519</td>\n",
       "      <td>apple_pie</td>\n",
       "      <td>1050519</td>\n",
       "    </tr>\n",
       "    <tr>\n",
       "      <th>6</th>\n",
       "      <td>apple_pie/1057749</td>\n",
       "      <td>apple_pie</td>\n",
       "      <td>1057749</td>\n",
       "    </tr>\n",
       "    <tr>\n",
       "      <th>7</th>\n",
       "      <td>apple_pie/1057810</td>\n",
       "      <td>apple_pie</td>\n",
       "      <td>1057810</td>\n",
       "    </tr>\n",
       "    <tr>\n",
       "      <th>8</th>\n",
       "      <td>apple_pie/1072416</td>\n",
       "      <td>apple_pie</td>\n",
       "      <td>1072416</td>\n",
       "    </tr>\n",
       "    <tr>\n",
       "      <th>9</th>\n",
       "      <td>apple_pie/1074856</td>\n",
       "      <td>apple_pie</td>\n",
       "      <td>1074856</td>\n",
       "    </tr>\n",
       "  </tbody>\n",
       "</table>\n",
       "</div>"
      ],
      "text/plain": [
       "                path      label       id\n",
       "0  apple_pie/1005649  apple_pie  1005649\n",
       "1  apple_pie/1014775  apple_pie  1014775\n",
       "2  apple_pie/1026328  apple_pie  1026328\n",
       "3  apple_pie/1028787  apple_pie  1028787\n",
       "4  apple_pie/1043283  apple_pie  1043283\n",
       "5  apple_pie/1050519  apple_pie  1050519\n",
       "6  apple_pie/1057749  apple_pie  1057749\n",
       "7  apple_pie/1057810  apple_pie  1057810\n",
       "8  apple_pie/1072416  apple_pie  1072416\n",
       "9  apple_pie/1074856  apple_pie  1074856"
      ]
     },
     "execution_count": 15,
     "metadata": {},
     "output_type": "execute_result"
    }
   ],
   "source": [
    "train_df.head(10)"
   ]
  },
  {
   "cell_type": "code",
   "execution_count": 16,
   "metadata": {},
   "outputs": [],
   "source": [
    "test_df = pd.DataFrame(map(lambda x: x[:-1], test_names), columns=['path'])"
   ]
  },
  {
   "cell_type": "code",
   "execution_count": 17,
   "metadata": {},
   "outputs": [],
   "source": [
    "test_df['label'] = test_df['path'].map(lambda x: get_label(x))"
   ]
  },
  {
   "cell_type": "code",
   "execution_count": 18,
   "metadata": {},
   "outputs": [],
   "source": [
    "test_df['id'] = test_df['path'].map(lambda x: get_id(x))"
   ]
  },
  {
   "cell_type": "code",
   "execution_count": 19,
   "metadata": {},
   "outputs": [
    {
     "data": {
      "text/html": [
       "<div>\n",
       "<style scoped>\n",
       "    .dataframe tbody tr th:only-of-type {\n",
       "        vertical-align: middle;\n",
       "    }\n",
       "\n",
       "    .dataframe tbody tr th {\n",
       "        vertical-align: top;\n",
       "    }\n",
       "\n",
       "    .dataframe thead th {\n",
       "        text-align: right;\n",
       "    }\n",
       "</style>\n",
       "<table border=\"1\" class=\"dataframe\">\n",
       "  <thead>\n",
       "    <tr style=\"text-align: right;\">\n",
       "      <th></th>\n",
       "      <th>path</th>\n",
       "      <th>label</th>\n",
       "      <th>id</th>\n",
       "    </tr>\n",
       "  </thead>\n",
       "  <tbody>\n",
       "    <tr>\n",
       "      <th>0</th>\n",
       "      <td>apple_pie/1011328</td>\n",
       "      <td>apple_pie</td>\n",
       "      <td>1011328</td>\n",
       "    </tr>\n",
       "    <tr>\n",
       "      <th>1</th>\n",
       "      <td>apple_pie/101251</td>\n",
       "      <td>apple_pie</td>\n",
       "      <td>101251</td>\n",
       "    </tr>\n",
       "    <tr>\n",
       "      <th>2</th>\n",
       "      <td>apple_pie/1034399</td>\n",
       "      <td>apple_pie</td>\n",
       "      <td>1034399</td>\n",
       "    </tr>\n",
       "    <tr>\n",
       "      <th>3</th>\n",
       "      <td>apple_pie/103801</td>\n",
       "      <td>apple_pie</td>\n",
       "      <td>103801</td>\n",
       "    </tr>\n",
       "    <tr>\n",
       "      <th>4</th>\n",
       "      <td>apple_pie/1038694</td>\n",
       "      <td>apple_pie</td>\n",
       "      <td>1038694</td>\n",
       "    </tr>\n",
       "    <tr>\n",
       "      <th>5</th>\n",
       "      <td>apple_pie/1047447</td>\n",
       "      <td>apple_pie</td>\n",
       "      <td>1047447</td>\n",
       "    </tr>\n",
       "    <tr>\n",
       "      <th>6</th>\n",
       "      <td>apple_pie/1068632</td>\n",
       "      <td>apple_pie</td>\n",
       "      <td>1068632</td>\n",
       "    </tr>\n",
       "    <tr>\n",
       "      <th>7</th>\n",
       "      <td>apple_pie/110043</td>\n",
       "      <td>apple_pie</td>\n",
       "      <td>110043</td>\n",
       "    </tr>\n",
       "    <tr>\n",
       "      <th>8</th>\n",
       "      <td>apple_pie/1106961</td>\n",
       "      <td>apple_pie</td>\n",
       "      <td>1106961</td>\n",
       "    </tr>\n",
       "    <tr>\n",
       "      <th>9</th>\n",
       "      <td>apple_pie/1113017</td>\n",
       "      <td>apple_pie</td>\n",
       "      <td>1113017</td>\n",
       "    </tr>\n",
       "  </tbody>\n",
       "</table>\n",
       "</div>"
      ],
      "text/plain": [
       "                path      label       id\n",
       "0  apple_pie/1011328  apple_pie  1011328\n",
       "1   apple_pie/101251  apple_pie   101251\n",
       "2  apple_pie/1034399  apple_pie  1034399\n",
       "3   apple_pie/103801  apple_pie   103801\n",
       "4  apple_pie/1038694  apple_pie  1038694\n",
       "5  apple_pie/1047447  apple_pie  1047447\n",
       "6  apple_pie/1068632  apple_pie  1068632\n",
       "7   apple_pie/110043  apple_pie   110043\n",
       "8  apple_pie/1106961  apple_pie  1106961\n",
       "9  apple_pie/1113017  apple_pie  1113017"
      ]
     },
     "execution_count": 19,
     "metadata": {},
     "output_type": "execute_result"
    }
   ],
   "source": [
    "test_df.head(10)"
   ]
  },
  {
   "cell_type": "code",
   "execution_count": 20,
   "metadata": {},
   "outputs": [],
   "source": [
    "def exact_path(path):\n",
    "    return \"../food-101/images/\" + path + \".jpg\""
   ]
  },
  {
   "cell_type": "code",
   "execution_count": 21,
   "metadata": {},
   "outputs": [],
   "source": [
    "test_df['exact_path'] = test_df['path'].map(lambda x: exact_path(x))"
   ]
  },
  {
   "cell_type": "code",
   "execution_count": 22,
   "metadata": {},
   "outputs": [],
   "source": [
    "train_df['exact_path'] = train_df['path'].map(lambda x: exact_path(x))"
   ]
  },
  {
   "cell_type": "code",
   "execution_count": 23,
   "metadata": {},
   "outputs": [
    {
     "data": {
      "text/html": [
       "<div>\n",
       "<style scoped>\n",
       "    .dataframe tbody tr th:only-of-type {\n",
       "        vertical-align: middle;\n",
       "    }\n",
       "\n",
       "    .dataframe tbody tr th {\n",
       "        vertical-align: top;\n",
       "    }\n",
       "\n",
       "    .dataframe thead th {\n",
       "        text-align: right;\n",
       "    }\n",
       "</style>\n",
       "<table border=\"1\" class=\"dataframe\">\n",
       "  <thead>\n",
       "    <tr style=\"text-align: right;\">\n",
       "      <th></th>\n",
       "      <th>path</th>\n",
       "      <th>label</th>\n",
       "      <th>id</th>\n",
       "      <th>exact_path</th>\n",
       "    </tr>\n",
       "  </thead>\n",
       "  <tbody>\n",
       "    <tr>\n",
       "      <th>0</th>\n",
       "      <td>apple_pie/1005649</td>\n",
       "      <td>apple_pie</td>\n",
       "      <td>1005649</td>\n",
       "      <td>../food-101/images/apple_pie/1005649.jpg</td>\n",
       "    </tr>\n",
       "    <tr>\n",
       "      <th>1</th>\n",
       "      <td>apple_pie/1014775</td>\n",
       "      <td>apple_pie</td>\n",
       "      <td>1014775</td>\n",
       "      <td>../food-101/images/apple_pie/1014775.jpg</td>\n",
       "    </tr>\n",
       "    <tr>\n",
       "      <th>2</th>\n",
       "      <td>apple_pie/1026328</td>\n",
       "      <td>apple_pie</td>\n",
       "      <td>1026328</td>\n",
       "      <td>../food-101/images/apple_pie/1026328.jpg</td>\n",
       "    </tr>\n",
       "    <tr>\n",
       "      <th>3</th>\n",
       "      <td>apple_pie/1028787</td>\n",
       "      <td>apple_pie</td>\n",
       "      <td>1028787</td>\n",
       "      <td>../food-101/images/apple_pie/1028787.jpg</td>\n",
       "    </tr>\n",
       "    <tr>\n",
       "      <th>4</th>\n",
       "      <td>apple_pie/1043283</td>\n",
       "      <td>apple_pie</td>\n",
       "      <td>1043283</td>\n",
       "      <td>../food-101/images/apple_pie/1043283.jpg</td>\n",
       "    </tr>\n",
       "  </tbody>\n",
       "</table>\n",
       "</div>"
      ],
      "text/plain": [
       "                path      label       id  \\\n",
       "0  apple_pie/1005649  apple_pie  1005649   \n",
       "1  apple_pie/1014775  apple_pie  1014775   \n",
       "2  apple_pie/1026328  apple_pie  1026328   \n",
       "3  apple_pie/1028787  apple_pie  1028787   \n",
       "4  apple_pie/1043283  apple_pie  1043283   \n",
       "\n",
       "                                 exact_path  \n",
       "0  ../food-101/images/apple_pie/1005649.jpg  \n",
       "1  ../food-101/images/apple_pie/1014775.jpg  \n",
       "2  ../food-101/images/apple_pie/1026328.jpg  \n",
       "3  ../food-101/images/apple_pie/1028787.jpg  \n",
       "4  ../food-101/images/apple_pie/1043283.jpg  "
      ]
     },
     "execution_count": 23,
     "metadata": {},
     "output_type": "execute_result"
    }
   ],
   "source": [
    "train_df.head(5)"
   ]
  },
  {
   "cell_type": "code",
   "execution_count": 24,
   "metadata": {},
   "outputs": [
    {
     "data": {
      "text/plain": [
       "<matplotlib.image.AxesImage at 0x168b8b014c0>"
      ]
     },
     "execution_count": 24,
     "metadata": {},
     "output_type": "execute_result"
    },
    {
     "data": {
      "image/png": "[encoded data removed]",
      "text/plain": [
       "<Figure size 432x288 with 1 Axes>"
      ]
     },
     "metadata": {
      "needs_background": "light"
     },
     "output_type": "display_data"
    }
   ],
   "source": [
    "from matplotlib import pyplot as plt\n",
    "\n",
    "img = plt.imread(train_df['exact_path'].iloc[580])\n",
    "plt.imshow(img)"
   ]
  },
  {
   "cell_type": "code",
   "execution_count": 25,
   "metadata": {},
   "outputs": [
    {
     "data": {
      "text/plain": [
       "(512, 512, 3)"
      ]
     },
     "execution_count": 25,
     "metadata": {},
     "output_type": "execute_result"
    }
   ],
   "source": [
    "img.shape"
   ]
  },
  {
   "cell_type": "code",
   "execution_count": 26,
   "metadata": {},
   "outputs": [],
   "source": [
    "from models import fine_tuned_v1 as model"
   ]
  },
  {
   "cell_type": "code",
   "execution_count": 27,
   "metadata": {},
   "outputs": [
    {
     "name": "stdout",
     "output_type": "stream",
     "text": [
      "Model: \"sequential_4\"\n",
      "_________________________________________________________________\n",
      " Layer (type)                Output Shape              Param #   \n",
      "=================================================================\n",
      " resnet50v2 (Functional)     (None, 8, 8, 2048)        23564800  \n",
      "                                                                 \n",
      " global_average_pooling2d_2   (None, 2048)             0         \n",
      " (GlobalAveragePooling2D)                                        \n",
      "                                                                 \n",
      " dense_10 (Dense)            (None, 101)               206949    \n",
      "                                                                 \n",
      "=================================================================\n",
      "Total params: 23,771,749\n",
      "Trainable params: 206,949\n",
      "Non-trainable params: 23,564,800\n",
      "_________________________________________________________________\n"
     ]
    }
   ],
   "source": [
    "model.model.summary()"
   ]
  },
  {
   "cell_type": "code",
   "execution_count": 28,
   "metadata": {},
   "outputs": [
    {
     "name": "stdout",
     "output_type": "stream",
     "text": [
      "Found 60600 validated image filenames belonging to 101 classes.\n"
     ]
    }
   ],
   "source": [
    "train_generator = model.data_generator.flow_from_dataframe(dataframe=train_df, \n",
    "                                               directory=None,\n",
    "                                                x_col='exact_path', \n",
    "                                                y_col='label', \n",
    "                                                weight_col=None, \n",
    "                                                target_size=(256,256), \n",
    "                                                color_mode='rgb', \n",
    "                                                classes=LABELS, \n",
    "                                                class_mode='categorical', \n",
    "                                                batch_size=model.batch_size,\n",
    "                                                subset='training', \n",
    "                                                shuffle=True)"
   ]
  },
  {
   "cell_type": "code",
   "execution_count": 29,
   "metadata": {},
   "outputs": [
    {
     "name": "stdout",
     "output_type": "stream",
     "text": [
      "Found 15150 validated image filenames belonging to 101 classes.\n"
     ]
    }
   ],
   "source": [
    "validation_generator = model.data_generator.flow_from_dataframe(dataframe=train_df, \n",
    "                                               directory=None,\n",
    "                                                x_col='exact_path', \n",
    "                                                y_col='label', \n",
    "                                                weight_col=None, \n",
    "                                                target_size=(256,256), \n",
    "                                                color_mode='rgb', \n",
    "                                                classes=LABELS, \n",
    "                                                class_mode='categorical', \n",
    "                                                batch_size=model.batch_size,\n",
    "                                                subset='validation', \n",
    "                                                shuffle=True)"
   ]
  },
  {
   "cell_type": "code",
   "execution_count": 30,
   "metadata": {},
   "outputs": [
    {
     "name": "stdout",
     "output_type": "stream",
     "text": [
      "Found 25250 validated image filenames belonging to 101 classes.\n"
     ]
    }
   ],
   "source": [
    "test_gen = model.test_generator.flow_from_dataframe(dataframe = test_df, directory=None, x_col='exact_path', y_col='label',\n",
    "    weight_col=None, target_size=(256, 256), color_mode='rgb',\n",
    "    classes=LABELS, class_mode='categorical', batch_size=model.batch_size, shuffle=True)"
   ]
  },
  {
   "cell_type": "code",
   "execution_count": 31,
   "metadata": {},
   "outputs": [],
   "source": [
    "model.model.compile(optimizer=model.optimizer, loss=model.loss, metrics=model.metrics)"
   ]
  },
  {
   "cell_type": "code",
   "execution_count": 32,
   "metadata": {},
   "outputs": [
    {
     "name": "stdout",
     "output_type": "stream",
     "text": [
      "Epoch 1/10\n",
      "1893/1893 [==============================] - 324s 167ms/step - loss: 1.9217 - accuracy: 0.5153 - val_loss: 15.9800 - val_accuracy: 0.0064\n",
      "Epoch 2/10\n",
      "1893/1893 [==============================] - 269s 142ms/step - loss: 1.3986 - accuracy: 0.6303 - val_loss: 17.5522 - val_accuracy: 0.0067\n",
      "Epoch 3/10\n",
      "1893/1893 [==============================] - 772s 408ms/step - loss: 1.2131 - accuracy: 0.6748 - val_loss: 18.8865 - val_accuracy: 0.0072\n",
      "Epoch 4/10\n",
      "1893/1893 [==============================] - 297s 157ms/step - loss: 1.0895 - accuracy: 0.7042 - val_loss: 19.9686 - val_accuracy: 0.0070\n",
      "Epoch 5/10\n",
      "1893/1893 [==============================] - 230s 122ms/step - loss: 0.9990 - accuracy: 0.7252 - val_loss: 21.1411 - val_accuracy: 0.0063\n",
      "Epoch 6/10\n",
      "1893/1893 [==============================] - 230s 121ms/step - loss: 0.9203 - accuracy: 0.7440 - val_loss: 22.2899 - val_accuracy: 0.0065\n",
      "Epoch 7/10\n",
      "1893/1893 [==============================] - 235s 124ms/step - loss: 0.8636 - accuracy: 0.7564 - val_loss: 23.3020 - val_accuracy: 0.0069\n",
      "Epoch 8/10\n",
      "1893/1893 [==============================] - 229s 121ms/step - loss: 0.8114 - accuracy: 0.7717 - val_loss: 24.1934 - val_accuracy: 0.0071\n",
      "Epoch 9/10\n",
      "1893/1893 [==============================] - 229s 121ms/step - loss: 0.7679 - accuracy: 0.7821 - val_loss: 24.9282 - val_accuracy: 0.0063\n",
      "Epoch 10/10\n",
      "1893/1893 [==============================] - 235s 124ms/step - loss: 0.7297 - accuracy: 0.7910 - val_loss: 25.3336 - val_accuracy: 0.0071\n"
     ]
    }
   ],
   "source": [
    "history = model.model.fit(train_generator, \n",
    "                              steps_per_epoch = train_generator.samples // model.batch_size, \n",
    "                              validation_data=validation_generator, \n",
    "                              validation_steps=validation_generator.samples // model.batch_size,\n",
    "                              epochs=model.epochs)"
   ]
  },
  {
   "cell_type": "code",
   "execution_count": 33,
   "metadata": {},
   "outputs": [
    {
     "data": {
      "text/plain": [
       "{'loss': [1.9217385053634644,\n",
       "  1.3986461162567139,\n",
       "  1.2131009101867676,\n",
       "  1.0894615650177002,\n",
       "  0.9990118741989136,\n",
       "  0.920303463935852,\n",
       "  0.8636215329170227,\n",
       "  0.8113992810249329,\n",
       "  0.7679426670074463,\n",
       "  0.7297328114509583],\n",
       " 'accuracy': [0.5152885913848877,\n",
       "  0.6302832961082458,\n",
       "  0.6748448014259338,\n",
       "  0.7041671872138977,\n",
       "  0.7252344489097595,\n",
       "  0.7439572215080261,\n",
       "  0.7563564777374268,\n",
       "  0.7716946005821228,\n",
       "  0.7820796370506287,\n",
       "  0.7910117506980896],\n",
       " 'val_loss': [15.979985237121582,\n",
       "  17.55219268798828,\n",
       "  18.8864688873291,\n",
       "  19.96856689453125,\n",
       "  21.141098022460938,\n",
       "  22.289892196655273,\n",
       "  23.302038192749023,\n",
       "  24.193439483642578,\n",
       "  24.92815589904785,\n",
       "  25.33359146118164],\n",
       " 'val_accuracy': [0.006408562418073416,\n",
       "  0.006672833114862442,\n",
       "  0.007201374042779207,\n",
       "  0.007003171369433403,\n",
       "  0.006276426836848259,\n",
       "  0.006540697533637285,\n",
       "  0.006871035788208246,\n",
       "  0.007069238927215338,\n",
       "  0.006276426836848259,\n",
       "  0.0071353064849972725]}"
      ]
     },
     "execution_count": 33,
     "metadata": {},
     "output_type": "execute_result"
    }
   ],
   "source": [
    "history.history"
   ]
  },
  {
   "cell_type": "code",
   "execution_count": 34,
   "metadata": {},
   "outputs": [
    {
     "data": {
      "text/plain": [
       "<matplotlib.legend.Legend at 0x168d9fff760>"
      ]
     },
     "execution_count": 34,
     "metadata": {},
     "output_type": "execute_result"
    },
    {
     "data": {
      "image/png": "[encoded data removed]",
      "text/plain": [
       "<Figure size 432x288 with 1 Axes>"
      ]
     },
     "metadata": {
      "needs_background": "light"
     },
     "output_type": "display_data"
    }
   ],
   "source": [
    "hist_df = pd.DataFrame(history.history)\n",
    "plt.plot(hist_df)\n",
    "plt.legend(hist_df)"
   ]
  },
  {
   "cell_type": "code",
   "execution_count": 35,
   "metadata": {},
   "outputs": [],
   "source": [
    "hist_json = './histories/' + model.name + '.json'\n",
    "with open(hist_json, mode='w') as f:\n",
    "    hist_df.to_json(f)"
   ]
  },
  {
   "cell_type": "code",
   "execution_count": 36,
   "metadata": {},
   "outputs": [
    {
     "name": "stderr",
     "output_type": "stream",
     "text": [
      "WARNING:absl:Found untraced functions such as _jit_compiled_convolution_op, _jit_compiled_convolution_op, _jit_compiled_convolution_op, _jit_compiled_convolution_op, _jit_compiled_convolution_op while saving (showing 5 of 53). These functions will not be directly callable after loading.\n"
     ]
    },
    {
     "name": "stdout",
     "output_type": "stream",
     "text": [
      "INFO:tensorflow:Assets written to: ./models/fine_tuned_v1\\assets\n"
     ]
    },
    {
     "name": "stderr",
     "output_type": "stream",
     "text": [
      "INFO:tensorflow:Assets written to: ./models/fine_tuned_v1\\assets\n"
     ]
    }
   ],
   "source": [
    "model.model.save('./models/' + model.name)"
   ]
  }
 ],
 "metadata": {
  "kernelspec": {
   "display_name": "base",
   "language": "python",
   "name": "python3"
  },
  "language_info": {
   "codemirror_mode": {
    "name": "ipython",
    "version": 3
   },
   "file_extension": ".py",
   "mimetype": "text/x-python",
   "name": "python",
   "nbconvert_exporter": "python",
   "pygments_lexer": "ipython3",
   "version": "3.9.15"
  },
  "orig_nbformat": 4
 },
 "nbformat": 4,
 "nbformat_minor": 2
}
